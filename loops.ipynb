{
 "cells": [
  {
   "cell_type": "code",
   "execution_count": null,
   "metadata": {},
   "outputs": [],
   "source": [
    "syntax\n",
    "\n",
    "for temp in iterable:\n",
    "    statement 1\n",
    "    ...\n",
    "\n",
    "    statement n\n",
    "    "
   ]
  },
  {
   "cell_type": "code",
   "execution_count": 5,
   "metadata": {},
   "outputs": [
    {
     "name": "stdout",
     "output_type": "stream",
     "text": [
      "10 9 8 7 6 5 4 3 2 1 "
     ]
    }
   ],
   "source": [
    "for i in range(10,0,-1):\n",
    "    print(i, end=' ')\n"
   ]
  },
  {
   "cell_type": "code",
   "execution_count": 6,
   "metadata": {},
   "outputs": [
    {
     "name": "stdout",
     "output_type": "stream",
     "text": [
      "12 45 56 53 59 10 34 536 "
     ]
    }
   ],
   "source": [
    "data =[12,45,56,53,59,10,34,536]\n",
    "# traversal of list\n",
    "for val in data:\n",
    "    print(val, end=' ')"
   ]
  },
  {
   "cell_type": "code",
   "execution_count": 15,
   "metadata": {},
   "outputs": [
    {
     "name": "stdout",
     "output_type": "stream",
     "text": [
      "12\n",
      "45\n",
      "56\n",
      "53\n",
      "59\n",
      "10\n",
      "34\n",
      "561\n"
     ]
    }
   ],
   "source": [
    "prices= [12,45,None,56,53,None,59,10,None,34,561]\n",
    "for pr in prices:\n",
    "    if pr is None:\n",
    "        continue\n",
    "    print(pr)"
   ]
  },
  {
   "cell_type": "code",
   "execution_count": 16,
   "metadata": {},
   "outputs": [
    {
     "name": "stdout",
     "output_type": "stream",
     "text": [
      "12\n",
      "45\n",
      "the end\n"
     ]
    }
   ],
   "source": [
    "for item in prices:\n",
    "    if item is None:\n",
    "        break\n",
    "    print(item)\n",
    "print('the end')"
   ]
  },
  {
   "cell_type": "code",
   "execution_count": 14,
   "metadata": {},
   "outputs": [
    {
     "name": "stdout",
     "output_type": "stream",
     "text": [
      "1\n",
      "1 2 3 \n",
      "2\n",
      "1 2 3 \n",
      "3\n",
      "1 2 3 \n",
      "4\n",
      "1 2 3 \n",
      "5\n",
      "1 2 3 \n"
     ]
    }
   ],
   "source": [
    "for i in range(1,6):\n",
    "    print(i)\n",
    "    for j in range(1,4):\n",
    "        \n",
    "        print(j,end=' ')\n",
    "    print()"
   ]
  },
  {
   "attachments": {},
   "cell_type": "markdown",
   "metadata": {},
   "source": [
    ".enumerate\n",
    ".zip\n",
    ".for-else\n"
   ]
  },
  {
   "cell_type": "code",
   "execution_count": 1,
   "metadata": {},
   "outputs": [
    {
     "name": "stdout",
     "output_type": "stream",
     "text": [
      "(0, 'Radha')\n",
      "(1, 'Rohan')\n",
      "(2, 'Pucchuu')\n"
     ]
    }
   ],
   "source": [
    "names = ['Radha','Rohan','Pucchuu']\n",
    "for name in enumerate(names):\n",
    "    print(name)"
   ]
  },
  {
   "cell_type": "code",
   "execution_count": 4,
   "metadata": {},
   "outputs": [
    {
     "name": "stdout",
     "output_type": "stream",
     "text": [
      "0 Radha\n",
      "1 Rohan\n",
      "2 Pucchuu\n"
     ]
    }
   ],
   "source": [
    "for idx, name in enumerate(names):\n",
    "    print(idx, name)"
   ]
  },
  {
   "cell_type": "code",
   "execution_count": 6,
   "metadata": {},
   "outputs": [
    {
     "name": "stdout",
     "output_type": "stream",
     "text": [
      "1\n",
      "2\n",
      "3\n",
      "4\n",
      "5\n",
      "6\n",
      "7\n",
      "8\n",
      "9\n",
      "3\n"
     ]
    }
   ],
   "source": [
    "x = [1,2,3,4,5,6,7,8,9,3,4,55,4,3,2,1]\n",
    "for i, v in enumerate(x):\n",
    "    if i== 10:\n",
    "        break\n",
    "    print(v)"
   ]
  },
  {
   "cell_type": "code",
   "execution_count": 7,
   "metadata": {},
   "outputs": [
    {
     "name": "stdout",
     "output_type": "stream",
     "text": [
      "(1, 7, 2)\n",
      "(2, 8, 3)\n",
      "(3, 3, 6)\n",
      "(4, 2, 6)\n"
     ]
    }
   ],
   "source": [
    "x = [1,2,3,4]\n",
    "y = [7,8,3,2]\n",
    "z = [2,3,6,6]\n",
    "for i in zip(x,y,z):\n",
    "    print(i)"
   ]
  },
  {
   "cell_type": "code",
   "execution_count": 9,
   "metadata": {},
   "outputs": [
    {
     "name": "stdout",
     "output_type": "stream",
     "text": [
      "1 7 2\n",
      "2 8 3\n",
      "3 3 6\n",
      "4 2 6\n"
     ]
    }
   ],
   "source": [
    "for i,j,k in zip(x,y,z):\n",
    "    print(i,j,k)"
   ]
  },
  {
   "cell_type": "code",
   "execution_count": 10,
   "metadata": {},
   "outputs": [
    {
     "name": "stdout",
     "output_type": "stream",
     "text": [
      "(1, 7, 2)\n",
      "(2, 8, 3)\n",
      "(3, 3, 6)\n",
      "(4, 2, 6)\n",
      "(5, 4, 4)\n",
      "(6, 5, 3)\n"
     ]
    }
   ],
   "source": [
    "x = [1,2,3,4,5,6]\n",
    "y = [7,8,3,2,4,5]\n",
    "z = [2,3,6,6,4,3]\n",
    "for i in zip(x,y,z):\n",
    "    print(i)"
   ]
  },
  {
   "cell_type": "code",
   "execution_count": 12,
   "metadata": {},
   "outputs": [
    {
     "name": "stdout",
     "output_type": "stream",
     "text": [
      "1 7 2\n",
      "2 8 3\n",
      "3 3 6\n",
      "4 2 6\n",
      "5 4 4\n",
      "6 5 3\n"
     ]
    }
   ],
   "source": [
    "for i,j,k in zip(x,y,z):\n",
    "    print(i,j,k)"
   ]
  },
  {
   "attachments": {},
   "cell_type": "markdown",
   "metadata": {},
   "source": [
    "#for-else\n",
    "if all the iteration of the loop are cmplete without any break statement,then the else part is executed else part is not executed if the loop is terminated by a break statement."
   ]
  },
  {
   "cell_type": "code",
   "execution_count": 13,
   "metadata": {},
   "outputs": [
    {
     "name": "stdout",
     "output_type": "stream",
     "text": [
      "1\n",
      "2\n",
      "3\n",
      "4\n",
      "5\n",
      "6\n",
      "completed without break\n"
     ]
    }
   ],
   "source": [
    "for i in x:\n",
    "    if i == 13:\n",
    "        break\n",
    "    print(i)\n",
    "else:\n",
    "    print(\"completed without break\")"
   ]
  },
  {
   "cell_type": "code",
   "execution_count": 16,
   "metadata": {},
   "outputs": [
    {
     "name": "stdout",
     "output_type": "stream",
     "text": [
      "Prime\n"
     ]
    }
   ],
   "source": [
    "num = 7\n",
    "for i in range(2, num):\n",
    "    if num%i == 0:\n",
    "        print('Not prime')\n",
    "        break\n",
    "else:\n",
    "    print(\"Prime\")"
   ]
  },
  {
   "cell_type": "code",
   "execution_count": 18,
   "metadata": {},
   "outputs": [
    {
     "name": "stdout",
     "output_type": "stream",
     "text": [
      "123 % 2 = 1\n",
      "123 % 3 = 0\n",
      "Not prime\n"
     ]
    }
   ],
   "source": [
    "num = 123\n",
    "for i in range(2, num):\n",
    "    print(f'{num} % {i} = {num%i}')\n",
    "    if num%i == 0:\n",
    "        print('Not prime')\n",
    "        break\n",
    "else:\n",
    "    print(\"Prime\")"
   ]
  },
  {
   "cell_type": "code",
   "execution_count": null,
   "metadata": {},
   "outputs": [],
   "source": []
  }
 ],
 "metadata": {
  "kernelspec": {
   "display_name": "base",
   "language": "python",
   "name": "python3"
  },
  "language_info": {
   "codemirror_mode": {
    "name": "ipython",
    "version": 3
   },
   "file_extension": ".py",
   "mimetype": "text/x-python",
   "name": "python",
   "nbconvert_exporter": "python",
   "pygments_lexer": "ipython3",
   "version": "3.10.10"
  },
  "orig_nbformat": 4
 },
 "nbformat": 4,
 "nbformat_minor": 2
}
