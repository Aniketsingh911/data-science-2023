{
 "cells": [
  {
   "attachments": {},
   "cell_type": "markdown",
   "metadata": {},
   "source": [
    "# string\n",
    "-immutable\n",
    "- create\n",
    "- index and slice\n",
    "- methods"
   ]
  },
  {
   "cell_type": "code",
   "execution_count": 2,
   "metadata": {},
   "outputs": [
    {
     "name": "stdout",
     "output_type": "stream",
     "text": [
      "<class 'str'> <class 'str'>\n",
      "123\n",
      "<class 'str'>\n"
     ]
    }
   ],
   "source": [
    "a = 'Apple'\n",
    "b = \"Banana\"\n",
    "c = '''This\n",
    "is a string\n",
    "of multiple lines'''\n",
    "print(type(a), type(c))\n",
    "d = str(123) #convert value to string\n",
    "print(d)\n",
    "print(type(d))"
   ]
  },
  {
   "cell_type": "code",
   "execution_count": 3,
   "metadata": {},
   "outputs": [
    {
     "data": {
      "text/plain": [
       "'AppleAppleAppleAppleApple'"
      ]
     },
     "execution_count": 3,
     "metadata": {},
     "output_type": "execute_result"
    }
   ],
   "source": [
    "a * 5 #string duplication"
   ]
  },
  {
   "cell_type": "code",
   "execution_count": 4,
   "metadata": {},
   "outputs": [
    {
     "data": {
      "text/plain": [
       "'AppleBanana'"
      ]
     },
     "execution_count": 4,
     "metadata": {},
     "output_type": "execute_result"
    }
   ],
   "source": [
    "a + b #string concatenation"
   ]
  },
  {
   "cell_type": "code",
   "execution_count": 5,
   "metadata": {},
   "outputs": [
    {
     "data": {
      "text/plain": [
       "'e'"
      ]
     },
     "execution_count": 5,
     "metadata": {},
     "output_type": "execute_result"
    }
   ],
   "source": [
    "a[-1]"
   ]
  },
  {
   "cell_type": "code",
   "execution_count": 7,
   "metadata": {},
   "outputs": [
    {
     "data": {
      "text/plain": [
       "'App'"
      ]
     },
     "execution_count": 7,
     "metadata": {},
     "output_type": "execute_result"
    }
   ],
   "source": [
    "a[0] + a[1] + a[1]"
   ]
  },
  {
   "cell_type": "code",
   "execution_count": 21,
   "metadata": {},
   "outputs": [
    {
     "name": "stdout",
     "output_type": "stream",
     "text": [
      "Vijay\n",
      "dinanath\n",
      "chauhan\n",
      "chauhan\n",
      "Vijay\n",
      "chauhan\n",
      "chauhan\n"
     ]
    }
   ],
   "source": [
    "name = \"Vijay dinanath chauhan\"\n",
    "print(name[0:5])\n",
    "print(name[6:14])\n",
    "print(name[15:22])\n",
    "print(name[15:len(name)])\n",
    "print(name[:5])\n",
    "print(name[15:])\n",
    "print(name[-7:])"
   ]
  },
  {
   "cell_type": "code",
   "execution_count": 24,
   "metadata": {},
   "outputs": [
    {
     "name": "stdout",
     "output_type": "stream",
     "text": [
      "Vjydnnt hua\n",
      "ia iaahcahn\n",
      "nahuahc htananid yajiV\n"
     ]
    }
   ],
   "source": [
    "print(name[::2])\n",
    "print(name[1::2])\n",
    "# REVERSE STRING\n",
    "print(name[::-1])"
   ]
  },
  {
   "attachments": {},
   "cell_type": "markdown",
   "metadata": {},
   "source": [
    "String method\n",
    "-formatting methods\n",
    "   -upper(), lower(), capatalize(), title(), swapcase(), \n",
    "-validation methods\n",
    "     -isupper(), islower(), istitle(), isalpha(), isnumeric(), \n",
    "     -startswith(), endswith(),\n",
    "-utility methods\n",
    "   -split(), join(), find(), replace(), strip()\n",
    "   "
   ]
  },
  {
   "cell_type": "code",
   "execution_count": 28,
   "metadata": {},
   "outputs": [
    {
     "name": "stdout",
     "output_type": "stream",
     "text": [
      "THIS IS A PYTHON STRING\n",
      "this is a python string\n",
      "This is a python string\n",
      "tHIS IS A python STRING\n",
      "this is a python string\n",
      "This Is A Python String\n"
     ]
    }
   ],
   "source": [
    "msg = 'This is a PYTHON string'\n",
    "print(msg.upper())\n",
    "print(msg.lower())\n",
    "print(msg.capitalize())\n",
    "print(msg.swapcase())\n",
    "print(msg.casefold())\n",
    "print(msg.title())\n",
    "\n"
   ]
  },
  {
   "cell_type": "code",
   "execution_count": 29,
   "metadata": {},
   "outputs": [
    {
     "name": "stdout",
     "output_type": "stream",
     "text": [
      "This Is A Python String\n"
     ]
    }
   ],
   "source": [
    "msg = msg.title()\n",
    "print(msg)"
   ]
  },
  {
   "cell_type": "code",
   "execution_count": 32,
   "metadata": {},
   "outputs": [
    {
     "data": {
      "text/plain": [
       "False"
      ]
     },
     "execution_count": 32,
     "metadata": {},
     "output_type": "execute_result"
    }
   ],
   "source": [
    "\"hello\".isupper()\n",
    "\"pucchu\".isupper()\n"
   ]
  },
  {
   "cell_type": "code",
   "execution_count": 31,
   "metadata": {},
   "outputs": [
    {
     "name": "stdout",
     "output_type": "stream",
     "text": [
      "You entered a number\n",
      "You entered a alphanumeric\n"
     ]
    }
   ],
   "source": [
    "x = input('Enter a number:')\n",
    "if x.isnumeric():\n",
    "    print('You entered a number')\n",
    "if x.isalpha():\n",
    "    print('You entered a string')\n",
    "if x.isalnum():\n",
    "    print('You entered a alphanumeric')\n",
    "if x.islower():\n",
    "    print('You entered a lowercase string')"
   ]
  },
  {
   "cell_type": "code",
   "execution_count": 34,
   "metadata": {},
   "outputs": [
    {
     "name": "stdout",
     "output_type": "stream",
     "text": [
      "True\n",
      "False\n"
     ]
    }
   ],
   "source": [
    "person = \"Mr. Pucchuu\"\n",
    "print(person.startswith(\"Mr.\"))\n",
    "print(person.startswith(\"Ms.\"))"
   ]
  },
  {
   "cell_type": "code",
   "execution_count": 36,
   "metadata": {},
   "outputs": [
    {
     "name": "stdout",
     "output_type": "stream",
     "text": [
      "Blue\n",
      "Black\n",
      "Brown\n"
     ]
    }
   ],
   "source": [
    "colors = ['Red','Green','Blue','Black','Brown']\n",
    "for color in colors:\n",
    "    if color.startswith('B'):\n",
    "        print(color)"
   ]
  },
  {
   "cell_type": "code",
   "execution_count": null,
   "metadata": {},
   "outputs": [],
   "source": [
    "images = ['1.jpg','2.png','3.png','4.png','5.jpg']\n",
    "for img in images:\n",
    "    if img.endswith('.png'):\n",
    "        print(\"PNG found >>\",img)\n",
    "    if img.endswith()\n",
    "    "
   ]
  },
  {
   "cell_type": "code",
   "execution_count": 37,
   "metadata": {},
   "outputs": [
    {
     "name": "stdout",
     "output_type": "stream",
     "text": [
      "Life Before Death, Strength Before Weakness, Journey Before Destination\n",
      "['Life', 'Before', 'Death,', 'Strength', 'Before', 'Weakness,', 'Journey', 'Before', 'Destination']\n",
      "['Life Before Death', ' Strength Before Weakness', ' Journey Before Destination']\n",
      "['Lif', ' B', 'for', ' D', 'ath, Str', 'ngth B', 'for', ' W', 'akn', 'ss, Journ', 'y B', 'for', ' D', 'stination']\n"
     ]
    }
   ],
   "source": [
    "quote = \"Life Before Death, Strength Before Weakness, Journey Before Destination\"\n",
    "print(quote)\n",
    "print(quote.split())\n",
    "print(quote.split(\",\"))\n",
    "print(quote.split(\"e\"))"
   ]
  },
  {
   "cell_type": "code",
   "execution_count": 38,
   "metadata": {},
   "outputs": [
    {
     "name": "stdout",
     "output_type": "stream",
     "text": [
      "['Life', 'Before', 'Death,', 'Strength', 'Before', 'Weakness,', 'Journey', 'Before', 'Destination']\n",
      "9\n"
     ]
    }
   ],
   "source": [
    "word = quote.split()\n",
    "print(word)\n",
    "print(len(word))"
   ]
  },
  {
   "cell_type": "code",
   "execution_count": 40,
   "metadata": {},
   "outputs": [
    {
     "name": "stdout",
     "output_type": "stream",
     "text": [
      "Alex Alexa Alexis Alexander\n",
      "Alex+Alexa+Alexis+Alexander\n",
      "Alex---Alexa---Alexis---Alexander\n",
      "AlexaAlexaaAlexisaAlexander\n",
      "Alex,Alexa,Alexis,Alexander\n"
     ]
    }
   ],
   "source": [
    "x = ['Alex','Alexa','Alexis','Alexander']\n",
    "print(\" \".join(x))\n",
    "print(\"+\".join(x))\n",
    "print(\"---\".join(x))\n",
    "print(\"a\".join(x))\n",
    "print(\",\".join(x))"
   ]
  },
  {
   "cell_type": "code",
   "execution_count": 41,
   "metadata": {},
   "outputs": [],
   "source": [
    "story= 'Once upon a time, there was a king, who left his kingdom to the queen, and she ruled over it'"
   ]
  },
  {
   "cell_type": "code",
   "execution_count": 42,
   "metadata": {},
   "outputs": [
    {
     "name": "stdout",
     "output_type": "stream",
     "text": [
      "7\n",
      "30\n",
      "64\n",
      "-1\n",
      "49\n",
      "60\n"
     ]
    }
   ],
   "source": [
    "print(story.find('on'))\n",
    "print(story.find('king'))\n",
    "print(story.find('queen'))\n",
    "print(story.find('prince'))\n",
    "print(story.find('king', 31)) #31 IS THE STRING INDEX FOR SEARCHING\n",
    "print(story.rfind('the')) #rfind( ) searches from the right of the string"
   ]
  },
  {
   "cell_type": "code",
   "execution_count": 46,
   "metadata": {},
   "outputs": [
    {
     "name": "stdout",
     "output_type": "stream",
     "text": [
      "Once upon a tome, there was a pronce, who left hos proncedom to the queen, and she ruled over ot\n",
      "Once upon a time, thisre was a prince, who left his princedom to this queen, and she ruled over it\n",
      "Once upon a year, there is a prince, who leaves his princedom to the queen, and she ruled over it\n",
      "Once upon  time, there ws  prince, who left his princedom to the queen, nd she ruled over it\n",
      "Once upon a time, there was a prince, who left his princedom to the queen, and she ruled over it\n"
     ]
    }
   ],
   "source": [
    "print(story.replace('i','o'))\n",
    "print(story.replace('the','this'))\n",
    "print(story.replace('time','year').replace('was','is').replace('left','leaves'))\n",
    "print(story.replace('a','')) #remove all a\n",
    "print(story.replace('king','')) # remove all king"
   ]
  },
  {
   "cell_type": "code",
   "execution_count": 45,
   "metadata": {},
   "outputs": [
    {
     "name": "stdout",
     "output_type": "stream",
     "text": [
      "Once upon a time, there was a prince, who left his princedom to the queen, and she ruled over it\n"
     ]
    }
   ],
   "source": [
    "story = story.replace('king','prince')\n",
    "print(story)"
   ]
  },
  {
   "cell_type": "code",
   "execution_count": 47,
   "metadata": {},
   "outputs": [
    {
     "name": "stdout",
     "output_type": "stream",
     "text": [
      "hello 16 5\n"
     ]
    }
   ],
   "source": [
    "data = ' hello          '\n",
    "cdata = data.strip()\n",
    "print(cdata, len(data), len(cdata))"
   ]
  },
  {
   "cell_type": "code",
   "execution_count": 51,
   "metadata": {},
   "outputs": [
    {
     "name": "stdout",
     "output_type": "stream",
     "text": [
      "1\n",
      "2\n",
      "3\n",
      "4\n",
      "5\n"
     ]
    }
   ],
   "source": [
    "images = ['1.jpg','2.png','3.png','4.png','5.jpg']\n",
    "for image in images:\n",
    "    image = image.removesuffix('.png').removesuffix('.jpg')\n",
    "    print(image)"
   ]
  },
  {
   "cell_type": "code",
   "execution_count": 53,
   "metadata": {},
   "outputs": [
    {
     "name": "stdout",
     "output_type": "stream",
     "text": [
      "1000\n",
      "8000\n"
     ]
    }
   ],
   "source": [
    "prices = ['Rs.1000', 'Rs.8000']\n",
    "for price in prices:\n",
    "    pr = price.removeprefix('Rs.')\n",
    "    print(int(pr))"
   ]
  },
  {
   "cell_type": "code",
   "execution_count": 56,
   "metadata": {},
   "outputs": [
    {
     "data": {
      "text/plain": [
       "30"
      ]
     },
     "execution_count": 56,
     "metadata": {},
     "output_type": "execute_result"
    }
   ],
   "source": [
    "# total vowels in story\n",
    "story.count('a')+story.count('e')+story.count('i')+story.count('o')+story.count('u')"
   ]
  },
  {
   "cell_type": "code",
   "execution_count": 64,
   "metadata": {},
   "outputs": [],
   "source": [
    "content = '''The Zen of Python, by Tim Peters\n",
    "Beautiful is better than ugly.\n",
    "Explicit is better than implicit.\n",
    "Simple is better than complex.\n",
    "Complex is better than complicated.\n",
    "Flat is better than nested.\n",
    "Sparse is better than dense.\n",
    "Readability counts.\n",
    "Special cases aren't special enough to break the rules.\n",
    "Although practicality beats purity.\n",
    "Errors should never pass silently.\n",
    "Unless explicitly silenced.\n",
    "In the face of ambiguity, refuse the temptation to guess.\n",
    "There should be one-- and preferably only one --obvious way to do it.\n",
    "Although that way may not be obvious at first unless you're Dutch.\n",
    "Now is better than never.\n",
    "Although never is often better than *right* now.\n",
    "If the implementation is hard to explain, it's a bad idea.\n",
    "If the implementation is easy to explain, it may be a good idea.\n",
    "Namespaces are one honking great idea -- let's do more of those!'''"
   ]
  },
  {
   "cell_type": "code",
   "execution_count": 57,
   "metadata": {},
   "outputs": [
    {
     "name": "stdout",
     "output_type": "stream",
     "text": [
      "The Zen of Python, by Tim Peters\n",
      "\n",
      "Beautiful is better than ugly.\n",
      "Explicit is better than implicit.\n",
      "Simple is better than complex.\n",
      "Complex is better than complicated.\n",
      "Flat is better than nested.\n",
      "Sparse is better than dense.\n",
      "Readability counts.\n",
      "Special cases aren't special enough to break the rules.\n",
      "Although practicality beats purity.\n",
      "Errors should never pass silently.\n",
      "Unless explicitly silenced.\n",
      "In the face of ambiguity, refuse the temptation to guess.\n",
      "There should be one-- and preferably only one --obvious way to do it.\n",
      "Although that way may not be obvious at first unless you're Dutch.\n",
      "Now is better than never.\n",
      "Although never is often better than *right* now.\n",
      "If the implementation is hard to explain, it's a bad idea.\n",
      "If the implementation is easy to explain, it may be a good idea.\n",
      "Namespaces are one honking great idea -- let's do more of those!\n"
     ]
    }
   ],
   "source": [
    "import this"
   ]
  },
  {
   "cell_type": "code",
   "execution_count": 69,
   "metadata": {},
   "outputs": [
    {
     "name": "stdout",
     "output_type": "stream",
     "text": [
      "silently.           9\n",
      "honking             7\n",
      "you're              6\n",
      "are                 3\n",
      "not                 3\n",
      "special             7\n",
      "dense.              6\n",
      "*right*             7\n",
      "to                  2\n",
      "it.                 3\n",
      "Special             7\n",
      "ugly.               5\n",
      "practicality        12\n",
      "counts.             7\n",
      "preferably          10\n",
      "a                   1\n",
      "of                  2\n",
      "enough              6\n",
      "Unless              6\n",
      "--obvious           9\n",
      "never.              6\n",
      "explicitly          10\n",
      "refuse              6\n",
      "silenced.           9\n",
      "idea.               5\n",
      "those!              6\n",
      "Errors              6\n",
      "may                 3\n",
      "There               5\n",
      "Zen                 3\n",
      "Tim                 3\n",
      "face                4\n",
      "one--               5\n",
      "by                  2\n",
      "pass                4\n",
      "never               5\n",
      "Now                 3\n",
      "only                4\n",
      "implementation      14\n",
      "break               5\n",
      "and                 3\n",
      "more                4\n",
      "rules.              6\n",
      "Namespaces          10\n",
      "should              6\n",
      "obvious             7\n",
      "easy                4\n",
      "the                 3\n",
      "ambiguity,          10\n",
      "nested.             7\n",
      "beats               5\n",
      "better              6\n",
      "it's                4\n",
      "great               5\n",
      "is                  2\n",
      "guess.              6\n",
      "it                  2\n",
      "be                  2\n",
      "hard                4\n",
      "Although            8\n",
      "purity.             7\n",
      "than                4\n",
      "Complex             7\n",
      "that                4\n",
      "first               5\n",
      "do                  2\n",
      "now.                4\n",
      "complex.            8\n",
      "bad                 3\n",
      "--                  2\n",
      "aren't              6\n",
      "good                4\n",
      "The                 3\n",
      "explain,            8\n",
      "idea                4\n",
      "implicit.           9\n",
      "often               5\n",
      "Flat                4\n",
      "Dutch.              6\n",
      "If                  2\n",
      "unless              6\n",
      "way                 3\n",
      "Peters              6\n",
      "cases               5\n",
      "complicated.        12\n",
      "Python,             7\n",
      "Explicit            8\n",
      "In                  2\n",
      "Sparse              6\n",
      "Simple              6\n",
      "at                  2\n",
      "Beautiful           9\n",
      "let's               5\n",
      "temptation          10\n",
      "one                 3\n",
      "Readability         11\n"
     ]
    }
   ],
   "source": [
    "for word in set(content.split()):\n",
    "    print(f'{word:20}{len(word)}')"
   ]
  },
  {
   "cell_type": "code",
   "execution_count": 70,
   "metadata": {},
   "outputs": [
    {
     "name": "stdout",
     "output_type": "stream",
     "text": [
      "The                 3\n",
      "Zen                 3\n",
      "of                  2\n",
      "Python,             7\n",
      "by                  2\n",
      "Tim                 3\n",
      "Peters              6\n",
      "Beautiful           9\n",
      "is                  2\n",
      "better              6\n",
      "than                4\n",
      "ugly.               5\n",
      "Explicit            8\n",
      "is                  2\n",
      "better              6\n",
      "than                4\n",
      "implicit.           9\n",
      "Simple              6\n",
      "is                  2\n",
      "better              6\n",
      "than                4\n",
      "complex.            8\n",
      "Complex             7\n",
      "is                  2\n",
      "better              6\n",
      "than                4\n",
      "complicated.        12\n",
      "Flat                4\n",
      "is                  2\n",
      "better              6\n",
      "than                4\n",
      "nested.             7\n",
      "Sparse              6\n",
      "is                  2\n",
      "better              6\n",
      "than                4\n",
      "dense.              6\n",
      "Readability         11\n",
      "counts.             7\n",
      "Special             7\n",
      "cases               5\n",
      "aren't              6\n",
      "special             7\n",
      "enough              6\n",
      "to                  2\n",
      "break               5\n",
      "the                 3\n",
      "rules.              6\n",
      "Although            8\n",
      "practicality        12\n",
      "beats               5\n",
      "purity.             7\n",
      "Errors              6\n",
      "should              6\n",
      "never               5\n",
      "pass                4\n",
      "silently.           9\n",
      "Unless              6\n",
      "explicitly          10\n",
      "silenced.           9\n",
      "In                  2\n",
      "the                 3\n",
      "face                4\n",
      "of                  2\n",
      "ambiguity,          10\n",
      "refuse              6\n",
      "the                 3\n",
      "temptation          10\n",
      "to                  2\n",
      "guess.              6\n",
      "There               5\n",
      "should              6\n",
      "be                  2\n",
      "one--               5\n",
      "and                 3\n",
      "preferably          10\n",
      "only                4\n",
      "one                 3\n",
      "--obvious           9\n",
      "way                 3\n",
      "to                  2\n",
      "do                  2\n",
      "it.                 3\n",
      "Although            8\n",
      "that                4\n",
      "way                 3\n",
      "may                 3\n",
      "not                 3\n",
      "be                  2\n",
      "obvious             7\n",
      "at                  2\n",
      "first               5\n",
      "unless              6\n",
      "you're              6\n",
      "Dutch.              6\n",
      "Now                 3\n",
      "is                  2\n",
      "better              6\n",
      "than                4\n",
      "never.              6\n",
      "Although            8\n",
      "never               5\n",
      "is                  2\n",
      "often               5\n",
      "better              6\n",
      "than                4\n",
      "*right*             7\n",
      "now.                4\n",
      "If                  2\n",
      "the                 3\n",
      "implementation      14\n",
      "is                  2\n",
      "hard                4\n",
      "to                  2\n",
      "explain,            8\n",
      "it's                4\n",
      "a                   1\n",
      "bad                 3\n",
      "idea.               5\n",
      "If                  2\n",
      "the                 3\n",
      "implementation      14\n",
      "is                  2\n",
      "easy                4\n",
      "to                  2\n",
      "explain,            8\n",
      "it                  2\n",
      "may                 3\n",
      "be                  2\n",
      "a                   1\n",
      "good                4\n",
      "idea.               5\n",
      "Namespaces          10\n",
      "are                 3\n",
      "one                 3\n",
      "honking             7\n",
      "great               5\n",
      "idea                4\n",
      "--                  2\n",
      "let's               5\n",
      "do                  2\n",
      "more                4\n",
      "of                  2\n",
      "those!              6\n"
     ]
    }
   ],
   "source": [
    "for word in content.split():\n",
    "    print(f'{word:20}{len(word)}')"
   ]
  },
  {
   "attachments": {},
   "cell_type": "markdown",
   "metadata": {},
   "source": [
    "use set for deleting repetative data"
   ]
  },
  {
   "cell_type": "code",
   "execution_count": null,
   "metadata": {},
   "outputs": [],
   "source": []
  }
 ],
 "metadata": {
  "kernelspec": {
   "display_name": "base",
   "language": "python",
   "name": "python3"
  },
  "language_info": {
   "codemirror_mode": {
    "name": "ipython",
    "version": 3
   },
   "file_extension": ".py",
   "mimetype": "text/x-python",
   "name": "python",
   "nbconvert_exporter": "python",
   "pygments_lexer": "ipython3",
   "version": "3.10.10"
  },
  "orig_nbformat": 4
 },
 "nbformat": 4,
 "nbformat_minor": 2
}
