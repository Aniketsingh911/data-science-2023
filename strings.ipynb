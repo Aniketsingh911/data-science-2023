{
 "cells": [
  {
   "attachments": {},
   "cell_type": "markdown",
   "metadata": {},
   "source": [
    "# string\n",
    "-immutable\n",
    "- create\n",
    "- index and slice\n",
    "- methods"
   ]
  },
  {
   "cell_type": "code",
   "execution_count": 2,
   "metadata": {},
   "outputs": [
    {
     "name": "stdout",
     "output_type": "stream",
     "text": [
      "<class 'str'> <class 'str'>\n",
      "123\n",
      "<class 'str'>\n"
     ]
    }
   ],
   "source": [
    "a = 'Apple'\n",
    "b = \"Banana\"\n",
    "c = '''This\n",
    "is a string\n",
    "of multiple lines'''\n",
    "print(type(a), type(c))\n",
    "d = str(123) #convert value to string\n",
    "print(d)\n",
    "print(type(d))"
   ]
  },
  {
   "cell_type": "code",
   "execution_count": 3,
   "metadata": {},
   "outputs": [
    {
     "data": {
      "text/plain": [
       "'AppleAppleAppleAppleApple'"
      ]
     },
     "execution_count": 3,
     "metadata": {},
     "output_type": "execute_result"
    }
   ],
   "source": [
    "a * 5 #string duplication"
   ]
  },
  {
   "cell_type": "code",
   "execution_count": 4,
   "metadata": {},
   "outputs": [
    {
     "data": {
      "text/plain": [
       "'AppleBanana'"
      ]
     },
     "execution_count": 4,
     "metadata": {},
     "output_type": "execute_result"
    }
   ],
   "source": [
    "a + b #string concatenation"
   ]
  },
  {
   "cell_type": "code",
   "execution_count": 5,
   "metadata": {},
   "outputs": [
    {
     "data": {
      "text/plain": [
       "'e'"
      ]
     },
     "execution_count": 5,
     "metadata": {},
     "output_type": "execute_result"
    }
   ],
   "source": [
    "a[-1]"
   ]
  },
  {
   "cell_type": "code",
   "execution_count": 7,
   "metadata": {},
   "outputs": [
    {
     "data": {
      "text/plain": [
       "'App'"
      ]
     },
     "execution_count": 7,
     "metadata": {},
     "output_type": "execute_result"
    }
   ],
   "source": [
    "a[0] + a[1] + a[1]"
   ]
  },
  {
   "cell_type": "code",
   "execution_count": 21,
   "metadata": {},
   "outputs": [
    {
     "name": "stdout",
     "output_type": "stream",
     "text": [
      "Vijay\n",
      "dinanath\n",
      "chauhan\n",
      "chauhan\n",
      "Vijay\n",
      "chauhan\n",
      "chauhan\n"
     ]
    }
   ],
   "source": [
    "name = \"Vijay dinanath chauhan\"\n",
    "print(name[0:5])\n",
    "print(name[6:14])\n",
    "print(name[15:22])\n",
    "print(name[15:len(name)])\n",
    "print(name[:5])\n",
    "print(name[15:])\n",
    "print(name[-7:])"
   ]
  },
  {
   "cell_type": "code",
   "execution_count": 24,
   "metadata": {},
   "outputs": [
    {
     "name": "stdout",
     "output_type": "stream",
     "text": [
      "Vjydnnt hua\n",
      "ia iaahcahn\n",
      "nahuahc htananid yajiV\n"
     ]
    }
   ],
   "source": [
    "print(name[::2])\n",
    "print(name[1::2])\n",
    "# REVERSE STRING\n",
    "print(name[::-1])"
   ]
  },
  {
   "attachments": {},
   "cell_type": "markdown",
   "metadata": {},
   "source": [
    "String method\n",
    "-formatting methods\n",
    "   -upper(), lower(), capatalize(), title(), swapcase(), \n",
    "-validation methods\n",
    "     -isupper(), islower(), istitle(), isalpha(), isnumeric(), \n",
    "     -startswith(), endswith(),\n",
    "-utility methods\n",
    "   -split(), join(), find(), replace(), strip()\n",
    "   "
   ]
  },
  {
   "cell_type": "code",
   "execution_count": 28,
   "metadata": {},
   "outputs": [
    {
     "name": "stdout",
     "output_type": "stream",
     "text": [
      "THIS IS A PYTHON STRING\n",
      "this is a python string\n",
      "This is a python string\n",
      "tHIS IS A python STRING\n",
      "this is a python string\n",
      "This Is A Python String\n"
     ]
    }
   ],
   "source": [
    "msg = 'This is a PYTHON string'\n",
    "print(msg.upper())\n",
    "print(msg.lower())\n",
    "print(msg.capitalize())\n",
    "print(msg.swapcase())\n",
    "print(msg.casefold())\n",
    "print(msg.title())\n",
    "\n"
   ]
  },
  {
   "cell_type": "code",
   "execution_count": 29,
   "metadata": {},
   "outputs": [
    {
     "name": "stdout",
     "output_type": "stream",
     "text": [
      "This Is A Python String\n"
     ]
    }
   ],
   "source": [
    "msg = msg.title()\n",
    "print(msg)"
   ]
  },
  {
   "cell_type": "code",
   "execution_count": 32,
   "metadata": {},
   "outputs": [
    {
     "data": {
      "text/plain": [
       "False"
      ]
     },
     "execution_count": 32,
     "metadata": {},
     "output_type": "execute_result"
    }
   ],
   "source": [
    "\"hello\".isupper()\n",
    "\"pucchu\".isupper()\n"
   ]
  },
  {
   "cell_type": "code",
   "execution_count": 31,
   "metadata": {},
   "outputs": [
    {
     "name": "stdout",
     "output_type": "stream",
     "text": [
      "You entered a number\n",
      "You entered a alphanumeric\n"
     ]
    }
   ],
   "source": [
    "x = input('Enter a number:')\n",
    "if x.isnumeric():\n",
    "    print('You entered a number')\n",
    "if x.isalpha():\n",
    "    print('You entered a string')\n",
    "if x.isalnum():\n",
    "    print('You entered a alphanumeric')\n",
    "if x.islower():\n",
    "    print('You entered a lowercase string')"
   ]
  },
  {
   "cell_type": "code",
   "execution_count": 34,
   "metadata": {},
   "outputs": [
    {
     "name": "stdout",
     "output_type": "stream",
     "text": [
      "True\n",
      "False\n"
     ]
    }
   ],
   "source": [
    "person = \"Mr. Pucchuu\"\n",
    "print(person.startswith(\"Mr.\"))\n",
    "print(person.startswith(\"Ms.\"))"
   ]
  },
  {
   "cell_type": "code",
   "execution_count": 36,
   "metadata": {},
   "outputs": [
    {
     "name": "stdout",
     "output_type": "stream",
     "text": [
      "Blue\n",
      "Black\n",
      "Brown\n"
     ]
    }
   ],
   "source": [
    "colors = ['Red','Green','Blue','Black','Brown']\n",
    "for color in colors:\n",
    "    if color.startswith('B'):\n",
    "        print(color)"
   ]
  },
  {
   "cell_type": "code",
   "execution_count": null,
   "metadata": {},
   "outputs": [],
   "source": [
    "images = ['1.jpg','2.png','3.png','4.png','5.jpg']\n",
    "for img in images:\n",
    "    if img.endswith('.png'):\n",
    "        print(\"PNG found >>\",img)\n",
    "    if img.endswith()\n",
    "    "
   ]
  },
  {
   "cell_type": "code",
   "execution_count": 37,
   "metadata": {},
   "outputs": [
    {
     "name": "stdout",
     "output_type": "stream",
     "text": [
      "Life Before Death, Strength Before Weakness, Journey Before Destination\n",
      "['Life', 'Before', 'Death,', 'Strength', 'Before', 'Weakness,', 'Journey', 'Before', 'Destination']\n",
      "['Life Before Death', ' Strength Before Weakness', ' Journey Before Destination']\n",
      "['Lif', ' B', 'for', ' D', 'ath, Str', 'ngth B', 'for', ' W', 'akn', 'ss, Journ', 'y B', 'for', ' D', 'stination']\n"
     ]
    }
   ],
   "source": [
    "quote = \"Life Before Death, Strength Before Weakness, Journey Before Destination\"\n",
    "print(quote)\n",
    "print(quote.split())\n",
    "print(quote.split(\",\"))\n",
    "print(quote.split(\"e\"))"
   ]
  },
  {
   "cell_type": "code",
   "execution_count": 38,
   "metadata": {},
   "outputs": [
    {
     "name": "stdout",
     "output_type": "stream",
     "text": [
      "['Life', 'Before', 'Death,', 'Strength', 'Before', 'Weakness,', 'Journey', 'Before', 'Destination']\n",
      "9\n"
     ]
    }
   ],
   "source": [
    "word = quote.split()\n",
    "print(word)\n",
    "print(len(word))"
   ]
  },
  {
   "cell_type": "code",
   "execution_count": null,
   "metadata": {},
   "outputs": [],
   "source": []
  }
 ],
 "metadata": {
  "kernelspec": {
   "display_name": "base",
   "language": "python",
   "name": "python3"
  },
  "language_info": {
   "codemirror_mode": {
    "name": "ipython",
    "version": 3
   },
   "file_extension": ".py",
   "mimetype": "text/x-python",
   "name": "python",
   "nbconvert_exporter": "python",
   "pygments_lexer": "ipython3",
   "version": "3.10.10"
  },
  "orig_nbformat": 4
 },
 "nbformat": 4,
 "nbformat_minor": 2
}
