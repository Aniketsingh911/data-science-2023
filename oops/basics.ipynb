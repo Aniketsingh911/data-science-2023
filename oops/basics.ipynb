{
 "cells": [
  {
   "cell_type": "markdown",
   "metadata": {},
   "source": [
    "# oop\n",
    "- class\n",
    "- objects\n",
    "- methods\n",
    "    - constructor\n",
    "    - instance method\n",
    "- inheritance\n",
    "- multipls inheritance\n",
    "- data class\n",
    "- operator overloading"
   ]
  },
  {
   "cell_type": "code",
   "execution_count": 46,
   "metadata": {},
   "outputs": [],
   "source": [
    "# watsaap example\n",
    "class conversation:\n",
    "    name = \"\"\n",
    "    message = \"\"\n",
    "    def show(self):\n",
    "        print(\"Name: \", self.name)\n",
    "        print(\"Message: \", self.message)"
   ]
  },
  {
   "cell_type": "code",
   "execution_count": 47,
   "metadata": {},
   "outputs": [
    {
     "name": "stdout",
     "output_type": "stream",
     "text": [
      "<__main__.conversation object at 0x0000025806F663B0> <__main__.conversation object at 0x0000025806F5F040> <__main__.conversation object at 0x0000025806F65720>\n"
     ]
    }
   ],
   "source": [
    "c1 = conversation() # object\n",
    "c2 = conversation() # object\n",
    "c3 = conversation()\n",
    "print(c1, c2, c3)"
   ]
  },
  {
   "cell_type": "code",
   "execution_count": 48,
   "metadata": {},
   "outputs": [],
   "source": [
    "c1.name = \"raj\"\n",
    "c1.message = \"hello\"\n",
    "c2.name = \"rajesh\"\n",
    "c2.message = \"hello bro\"\n",
    "c3.name = \"raj nandani\"\n",
    "c3.message = \"hello sis\""
   ]
  },
  {
   "cell_type": "code",
   "execution_count": 49,
   "metadata": {},
   "outputs": [
    {
     "name": "stdout",
     "output_type": "stream",
     "text": [
      "Name:  raj\n",
      "Message:  hello\n",
      "Name:  rajesh\n",
      "Message:  hello bro\n",
      "Name:  raj nandani\n",
      "Message:  hello sis\n"
     ]
    }
   ],
   "source": [
    "c1.show()\n",
    "c2.show()\n",
    "c3.show()"
   ]
  },
  {
   "cell_type": "code",
   "execution_count": 50,
   "metadata": {},
   "outputs": [],
   "source": [
    "class cat:\n",
    "    def __init__(self, breed, color, age, gender, type=\"pet\"):\n",
    "        self.breed = breed\n",
    "        self.color = color\n",
    "        self.age = age\n",
    "        self.gender = gender\n",
    "        self.type = type\n",
    "        self.is_hungry = True\n",
    "    \n",
    "    def info(self):\n",
    "        print(f'Breed : {self.breed}')\n",
    "        print(f'Color : {self.color}')\n",
    "        print(f'Age : {self.age}')\n",
    "        print(f'Gender : {self.gender}')\n",
    "        print(f'Type : {self.type}')\n",
    "        print(f'Is hungry :{\"Yes\" if self.is_hungry else \"No\"}')"
   ]
  },
  {
   "cell_type": "code",
   "execution_count": 51,
   "metadata": {},
   "outputs": [],
   "source": [
    "tom = cat('idk', 'grey', 100, 'male')\n",
    "snowbell = cat('Persian', 'white', 3, 'female')\n",
    "blackey = cat('Street cat', 'black', 4, 'male', 'stray')"
   ]
  },
  {
   "cell_type": "code",
   "execution_count": 52,
   "metadata": {},
   "outputs": [],
   "source": [
    "blackey.is_hungry = False"
   ]
  },
  {
   "cell_type": "code",
   "execution_count": 53,
   "metadata": {},
   "outputs": [
    {
     "name": "stdout",
     "output_type": "stream",
     "text": [
      "🐈\n",
      "Breed : idk\n",
      "Color : grey\n",
      "Age : 100\n",
      "Gender : male\n",
      "Type : pet\n",
      "Is hungry :Yes\n",
      "🐈\n",
      "Breed : Persian\n",
      "Color : white\n",
      "Age : 3\n",
      "Gender : female\n",
      "Type : pet\n",
      "Is hungry :Yes\n",
      "🐈\n",
      "Breed : Street cat\n",
      "Color : black\n",
      "Age : 4\n",
      "Gender : male\n",
      "Type : stray\n",
      "Is hungry :No\n"
     ]
    }
   ],
   "source": [
    "print('🐈')\n",
    "tom.info()\n",
    "print('🐈')\n",
    "snowbell.info()\n",
    "print('🐈')\n",
    "blackey.info()"
   ]
  },
  {
   "cell_type": "code",
   "execution_count": 54,
   "metadata": {},
   "outputs": [],
   "source": [
    "class ListX(list):\n",
    "    def filter(self, dtype = 'int'):\n",
    "        if dtype == 'int':\n",
    "            for item in self:\n",
    "                if isinstance(item, int):\n",
    "                    yield item\n",
    "        if dtype == 'str':\n",
    "            for item in self:\n",
    "                if isinstance(item, str):\n",
    "                    yield item    \n",
    "        if dtype == 'list':\n",
    "            for item in self:\n",
    "                if isinstance(item, list):\n",
    "                    yield item"
   ]
  },
  {
   "cell_type": "code",
   "execution_count": 55,
   "metadata": {},
   "outputs": [
    {
     "data": {
      "text/plain": [
       "[1, 2, 3, 4, 5]"
      ]
     },
     "execution_count": 55,
     "metadata": {},
     "output_type": "execute_result"
    }
   ],
   "source": [
    "x = ListX([1,2,3,4,5, 'a', 'b', 'c'])\n",
    "list(x.filter())"
   ]
  },
  {
   "cell_type": "code",
   "execution_count": 56,
   "metadata": {},
   "outputs": [
    {
     "data": {
      "text/plain": [
       "['a', 'b', 'c']"
      ]
     },
     "execution_count": 56,
     "metadata": {},
     "output_type": "execute_result"
    }
   ],
   "source": [
    "list(x.filter('str'))"
   ]
  },
  {
   "cell_type": "code",
   "execution_count": 57,
   "metadata": {},
   "outputs": [
    {
     "data": {
      "text/plain": [
       "[[1, 2, 3], [5, 6, 7]]"
      ]
     },
     "execution_count": 57,
     "metadata": {},
     "output_type": "execute_result"
    }
   ],
   "source": [
    "x = ListX([[1,2,3],[5,6,7],'hello', 1,2,3])\n",
    "list(x.filter('list'))"
   ]
  },
  {
   "cell_type": "code",
   "execution_count": 58,
   "metadata": {},
   "outputs": [],
   "source": [
    "from dataclasses import dataclass\n",
    "\n",
    "@dataclass\n",
    "class Conversation:\n",
    "    name: str\n",
    "    message: str\n",
    "    message_time = str\n",
    "    profile_pic: str\n",
    "    status: str = 'sent'\n",
    "    is_group: bool = False\n",
    "    is_muted: bool = False"
   ]
  },
  {
   "cell_type": "code",
   "execution_count": 59,
   "metadata": {},
   "outputs": [],
   "source": [
    "c1 = Conversation('Raj', 'Hello', 'raj.jpg')\n",
    "c2 = Conversation('Rajshree', 'Hello', 'rajshree.jpg')\n",
    "c3 = Conversation('Rahul', 'hello', 'rahul.jpg', status='seen')\n",
    "c4 = Conversation('Gadhe', 'hello', 'gadhe.jpg', is_group=True)"
   ]
  },
  {
   "cell_type": "code",
   "execution_count": 60,
   "metadata": {},
   "outputs": [
    {
     "name": "stdout",
     "output_type": "stream",
     "text": [
      "Conversation(name='Raj', message='Hello', profile_pic='raj.jpg', status='sent', is_group=False, is_muted=False)\n"
     ]
    }
   ],
   "source": [
    "print(c1)"
   ]
  },
  {
   "cell_type": "code",
   "execution_count": 61,
   "metadata": {},
   "outputs": [],
   "source": [
    "class Person:\n",
    "    def __init__(self, name, age):\n",
    "        self.name = name\n",
    "        self.age = age\n",
    "        # to string method\n",
    "    def __str__(self):\n",
    "        return self.name\n",
    "    # representation method\n",
    "    def __repr__(self):\n",
    "        return f'Person({self.name})'\n",
    "\n",
    "    #greater than operator overloading\n",
    "    def __gt__(self, other):\n",
    "        if isinstance(other, Person): \n",
    "            return self.age > other.age\n",
    "        else:\n",
    "            raise TypeError('Invalid type')"
   ]
  },
  {
   "cell_type": "code",
   "execution_count": 62,
   "metadata": {},
   "outputs": [],
   "source": [
    "p1 = Person('Raj', 20)\n",
    "p2 = Person('Rajshree', 22)\n",
    "p3 = Person('Rahul', 30)\n",
    "p4 = Person('Gadhe', 20)"
   ]
  },
  {
   "cell_type": "code",
   "execution_count": 63,
   "metadata": {},
   "outputs": [
    {
     "name": "stdout",
     "output_type": "stream",
     "text": [
      "Raj Rajshree Rahul\n"
     ]
    }
   ],
   "source": [
    "print(p1,p2,p3)"
   ]
  },
  {
   "cell_type": "code",
   "execution_count": 64,
   "metadata": {},
   "outputs": [
    {
     "data": {
      "text/plain": [
       "True"
      ]
     },
     "execution_count": 64,
     "metadata": {},
     "output_type": "execute_result"
    }
   ],
   "source": [
    "p3 > p2"
   ]
  },
  {
   "cell_type": "code",
   "execution_count": 65,
   "metadata": {},
   "outputs": [
    {
     "data": {
      "text/plain": [
       "True"
      ]
     },
     "execution_count": 65,
     "metadata": {},
     "output_type": "execute_result"
    }
   ],
   "source": [
    "p1 < p2"
   ]
  },
  {
   "cell_type": "code",
   "execution_count": 67,
   "metadata": {},
   "outputs": [],
   "source": [
    "x = [p1, p2, p3, p1]\n",
    "x.sort()"
   ]
  },
  {
   "cell_type": "code",
   "execution_count": 68,
   "metadata": {},
   "outputs": [
    {
     "data": {
      "text/plain": [
       "[Person(Raj), Person(Raj), Person(Rajshree), Person(Rahul)]"
      ]
     },
     "execution_count": 68,
     "metadata": {},
     "output_type": "execute_result"
    }
   ],
   "source": [
    "x"
   ]
  },
  {
   "cell_type": "code",
   "execution_count": 76,
   "metadata": {},
   "outputs": [
    {
     "name": "stdout",
     "output_type": "stream",
     "text": [
      "Name:Rahul\n",
      "language: Pankaj\n",
      "Level: 1\n",
      "Playing Type: Divyanshi\n",
      "Cuisine : afcs\n",
      "Name:Pawan\n",
      "language: Mira\n",
      "Level: 1\n",
      "Playing Type: Pucchuu\n",
      "Cuisine : had\n"
     ]
    }
   ],
   "source": [
    "# multiple inheritance\n",
    "\n",
    "class Coder:\n",
    "    def __init__(self, language, level=1):\n",
    "        self.language = language\n",
    "        self.level = level\n",
    "\n",
    "    def info(self):\n",
    "        print(f'language: {self.language}')\n",
    "        print(f'Level: {self.level}')\n",
    "\n",
    "class Criketer:\n",
    "    def __init__(self, type='Batsman'):\n",
    "        self.type = type\n",
    "    \n",
    "class Chef:\n",
    "    def __init__(self, cuisine='Indian'):\n",
    "        self.cuisine = cuisine\n",
    "\n",
    "    def info(self,):\n",
    "        print(f'Cuisine : {self.cuisine}')\n",
    "\n",
    "class SkilledPerson(Coder, Criketer, Chef):\n",
    "    def __init__(self, name,language, playingType, cuisine, langlevel=1):\n",
    "        Coder.__init__(self, language, langlevel)\n",
    "        Criketer.__init__(self, playingType)\n",
    "        Chef.__init__(self, cuisine)\n",
    "        self.name = name\n",
    "\n",
    "    #method overriding\n",
    "    def info(self):\n",
    "        print(f'Name:{self.name}')\n",
    "        Coder.info(self)\n",
    "        print(f'Playing Type: {self.type}')\n",
    "        Chef.info(self)\n",
    "\n",
    "s1 = SkilledPerson('Rahul', 'Pankaj', 'Divyanshi','afcs')\n",
    "s2 = SkilledPerson(\"Pawan\", \"Mira\", \"Pucchuu\",'had')\n",
    "s1.info()\n",
    "s2.info()"
   ]
  },
  {
   "cell_type": "code",
   "execution_count": null,
   "metadata": {},
   "outputs": [],
   "source": []
  }
 ],
 "metadata": {
  "kernelspec": {
   "display_name": "base",
   "language": "python",
   "name": "python3"
  },
  "language_info": {
   "codemirror_mode": {
    "name": "ipython",
    "version": 3
   },
   "file_extension": ".py",
   "mimetype": "text/x-python",
   "name": "python",
   "nbconvert_exporter": "python",
   "pygments_lexer": "ipython3",
   "version": "3.10.10"
  },
  "orig_nbformat": 4
 },
 "nbformat": 4,
 "nbformat_minor": 2
}
