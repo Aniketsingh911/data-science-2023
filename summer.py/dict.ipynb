{
 "cells": [
  {
   "cell_type": "code",
   "execution_count": 6,
   "metadata": {},
   "outputs": [],
   "source": [
    "book = {\n",
    "     'Title' : 'The Final Empire' , \n",
    "     'Author' : 'Brandon Sanderson',\n",
    "     'Price' : 1499,\n",
    "     'Publisher' : 'Tor Books',\n",
    "     'Year' : 2006,\n",
    "     'Pages' : 541,\n",
    "     'Languages' : ['english','french','spanish']\n",
    "}\n"
   ]
  },
  {
   "cell_type": "code",
   "execution_count": 7,
   "metadata": {},
   "outputs": [
    {
     "name": "stdout",
     "output_type": "stream",
     "text": [
      "{'Title': 'The Final Empire', 'Author': 'Brandon Sanderson', 'Price': 1499, 'Publisher': 'Tor Books', 'Year': 2006, 'Pages': 541, 'Languages': ['english', 'french', 'spanish'], 'rating': 4.9}\n"
     ]
    }
   ],
   "source": [
    "book['rating']= 4.9\n",
    "print(book)"
   ]
  },
  {
   "cell_type": "code",
   "execution_count": 8,
   "metadata": {},
   "outputs": [
    {
     "name": "stdout",
     "output_type": "stream",
     "text": [
      "{'Title': 'The Final Empire', 'Author': 'Brandon Sanderson', 'Price': 1499, 'Publisher': 'Tor Books', 'Year': 2006, 'Pages': 541, 'Languages': ['english', 'french', 'spanish'], 'rating': 4.9, 'type': 'paperback'}\n"
     ]
    }
   ],
   "source": [
    "book['rating']= 4.9\n",
    "book['type'] = 'paperback'\n",
    "print(book)"
   ]
  },
  {
   "cell_type": "code",
   "execution_count": 10,
   "metadata": {},
   "outputs": [
    {
     "data": {
      "text/plain": [
       "541"
      ]
     },
     "execution_count": 10,
     "metadata": {},
     "output_type": "execute_result"
    }
   ],
   "source": [
    "book['Pages']"
   ]
  },
  {
   "cell_type": "code",
   "execution_count": 11,
   "metadata": {},
   "outputs": [
    {
     "data": {
      "text/plain": [
       "541"
      ]
     },
     "execution_count": 11,
     "metadata": {},
     "output_type": "execute_result"
    }
   ],
   "source": [
    "book.pop('Pages')"
   ]
  },
  {
   "cell_type": "code",
   "execution_count": 12,
   "metadata": {},
   "outputs": [
    {
     "data": {
      "text/plain": [
       "{'Title': 'The Final Empire',\n",
       " 'Author': 'Brandon Sanderson',\n",
       " 'Price': 1499,\n",
       " 'Publisher': 'Tor Books',\n",
       " 'Year': 2006,\n",
       " 'Languages': ['english', 'french', 'spanish'],\n",
       " 'rating': 4.9,\n",
       " 'type': 'paperback'}"
      ]
     },
     "execution_count": 12,
     "metadata": {},
     "output_type": "execute_result"
    }
   ],
   "source": [
    "book"
   ]
  },
  {
   "cell_type": "code",
   "execution_count": 13,
   "metadata": {},
   "outputs": [
    {
     "data": {
      "text/plain": [
       "['Title',\n",
       " 'Author',\n",
       " 'Price',\n",
       " 'Publisher',\n",
       " 'Year',\n",
       " 'Languages',\n",
       " 'rating',\n",
       " 'type']"
      ]
     },
     "execution_count": 13,
     "metadata": {},
     "output_type": "execute_result"
    }
   ],
   "source": [
    "list(book.keys())"
   ]
  },
  {
   "cell_type": "code",
   "execution_count": 14,
   "metadata": {},
   "outputs": [
    {
     "data": {
      "text/plain": [
       "['The Final Empire',\n",
       " 'Brandon Sanderson',\n",
       " 1499,\n",
       " 'Tor Books',\n",
       " 2006,\n",
       " ['english', 'french', 'spanish'],\n",
       " 4.9,\n",
       " 'paperback']"
      ]
     },
     "execution_count": 14,
     "metadata": {},
     "output_type": "execute_result"
    }
   ],
   "source": [
    "list(book.values())"
   ]
  },
  {
   "cell_type": "code",
   "execution_count": 17,
   "metadata": {},
   "outputs": [
    {
     "data": {
      "text/plain": [
       "[('Title', 'The Final Empire'),\n",
       " ('Author', 'Brandon Sanderson'),\n",
       " ('Price', 1499),\n",
       " ('Publisher', 'Tor Books'),\n",
       " ('Year', 2006),\n",
       " ('Languages', ['english', 'french', 'spanish']),\n",
       " ('rating', 4.9),\n",
       " ('type', 'paperback')]"
      ]
     },
     "execution_count": 17,
     "metadata": {},
     "output_type": "execute_result"
    }
   ],
   "source": [
    "list(book.items()) # key value pair as tuple"
   ]
  },
  {
   "cell_type": "code",
   "execution_count": 18,
   "metadata": {},
   "outputs": [
    {
     "data": {
      "text/plain": [
       "'not found'"
      ]
     },
     "execution_count": 18,
     "metadata": {},
     "output_type": "execute_result"
    }
   ],
   "source": [
    "book.get('publisher' , 'not found') "
   ]
  },
  {
   "cell_type": "code",
   "execution_count": 19,
   "metadata": {},
   "outputs": [
    {
     "data": {
      "text/plain": [
       "'Tor Books'"
      ]
     },
     "execution_count": 19,
     "metadata": {},
     "output_type": "execute_result"
    }
   ],
   "source": [
    "book.get('Publisher' , 'not found')"
   ]
  },
  {
   "cell_type": "code",
   "execution_count": 20,
   "metadata": {},
   "outputs": [
    {
     "name": "stdout",
     "output_type": "stream",
     "text": [
      "{'avenger': 10.0, 'wonder women': 9.9, 'loki': 9.0}\n"
     ]
    }
   ],
   "source": [
    "myrating = {}\n",
    "for i in range(1,4):\n",
    "    name = input(f'enter the name of movie {i}:')\n",
    "    rating = float(input(f'enter the rating of movie {i}:'))\n",
    "    myrating[name] = rating\n",
    "\n",
    "print(myrating)"
   ]
  },
  {
   "cell_type": "code",
   "execution_count": 23,
   "metadata": {},
   "outputs": [
    {
     "name": "stdout",
     "output_type": "stream",
     "text": [
      "avenger\n",
      "wonder women\n",
      "loki\n",
      "______________________________\n",
      "avenger 10.0\n",
      "wonder women 9.9\n",
      "loki 9.0\n",
      "______________________________\n",
      "avenger 10.0\n",
      "wonder women 9.9\n",
      "loki 9.0\n"
     ]
    }
   ],
   "source": [
    "for i in myrating:\n",
    "    print(i) # only key\n",
    "\n",
    "print('___'* 10)\n",
    "for i in myrating:\n",
    "    print(i, myrating[i]) # only values\n",
    "\n",
    "print('___'* 10)\n",
    "for k,v in myrating.items():\n",
    "    print(k,v)"
   ]
  },
  {
   "cell_type": "markdown",
   "metadata": {},
   "source": [
    "book.clear()\n",
    "print(book)"
   ]
  },
  {
   "cell_type": "code",
   "execution_count": 24,
   "metadata": {},
   "outputs": [],
   "source": [
    "books = {\n",
    "    'book1':{\n",
    "        'title': 'The final destination',\n",
    "        'author': 'Brandon sanderson',\n",
    "        'price': 1499,\n",
    "    },\n",
    "    'book2':{\n",
    "        'title': 'The rise of empire',\n",
    "        'author': 'Brandon sanderson',\n",
    "        'price': 1877,\n",
    "    },\n",
    "    'book3':{\n",
    "        'title': 'The hero of ages',\n",
    "        'author': 'Brandon sanderson',\n",
    "        'price': 1877,\n",
    "    }\n",
    "}"
   ]
  },
  {
   "cell_type": "code",
   "execution_count": 26,
   "metadata": {},
   "outputs": [
    {
     "name": "stdout",
     "output_type": "stream",
     "text": [
      "book1\n",
      "\ttitle = The final destination\n",
      "\tauthor = Brandon sanderson\n",
      "\tprice = 1499\n",
      "book2\n",
      "\ttitle = The rise of empire\n",
      "\tauthor = Brandon sanderson\n",
      "\tprice = 1877\n",
      "book3\n",
      "\ttitle = The hero of ages\n",
      "\tauthor = Brandon sanderson\n",
      "\tprice = 1877\n"
     ]
    }
   ],
   "source": [
    "for name, detail in books.items():\n",
    "    print(name)\n",
    "    for k, v in detail.items():\n",
    "        print(f\"\\t{k} = {v}\")"
   ]
  },
  {
   "cell_type": "code",
   "execution_count": 27,
   "metadata": {},
   "outputs": [
    {
     "name": "stdout",
     "output_type": "stream",
     "text": [
      "book2 {'title': 'The rise of empire', 'author': 'Brandon sanderson', 'price': 1877}\n"
     ]
    }
   ],
   "source": [
    "query = \"The rise\"\n",
    "for name, detail in books.items():\n",
    "    if query in detail['title']:\n",
    "        print(name, detail)"
   ]
  },
  {
   "cell_type": "markdown",
   "metadata": {},
   "source": [
    "wap to create a dictionary that store numbers and their squares"
   ]
  },
  {
   "cell_type": "code",
   "execution_count": 32,
   "metadata": {},
   "outputs": [
    {
     "name": "stdout",
     "output_type": "stream",
     "text": [
      "{1: 1, 2: 2, 3: 3, 4: 4, 5: 5, 6: 6, 7: 7, 8: 8, 9: 9, 10: 10}\n"
     ]
    }
   ],
   "source": [
    "n = 10\n",
    "numbers = {}\n",
    "for i in range(1, n+1):\n",
    "    numbers[i] = i = i\n",
    "print(numbers)"
   ]
  },
  {
   "cell_type": "markdown",
   "metadata": {},
   "source": [
    "wap to ask user to enter item and its price and then store it in a dictionary,the program should stop when the user wants hint - while loop"
   ]
  },
  {
   "cell_type": "code",
   "execution_count": 33,
   "metadata": {},
   "outputs": [
    {
     "name": "stdout",
     "output_type": "stream",
     "text": [
      "{'shoes ': 2000, 'book': 799, 'weapons': 7000000}\n"
     ]
    }
   ],
   "source": [
    "items = {}\n",
    "while True:\n",
    "    item = input('enter name:')\n",
    "    if not item:break\n",
    "    price = int(input('enter price:'))\n",
    "    items[item] = price\n",
    "print(items)"
   ]
  },
  {
   "cell_type": "code",
   "execution_count": null,
   "metadata": {},
   "outputs": [],
   "source": []
  }
 ],
 "metadata": {
  "kernelspec": {
   "display_name": "base",
   "language": "python",
   "name": "python3"
  },
  "language_info": {
   "codemirror_mode": {
    "name": "ipython",
    "version": 3
   },
   "file_extension": ".py",
   "mimetype": "text/x-python",
   "name": "python",
   "nbconvert_exporter": "python",
   "pygments_lexer": "ipython3",
   "version": "3.10.10"
  },
  "orig_nbformat": 4
 },
 "nbformat": 4,
 "nbformat_minor": 2
}
