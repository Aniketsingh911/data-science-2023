{
 "cells": [
  {
   "cell_type": "code",
   "execution_count": null,
   "metadata": {
    "vscode": {
     "languageId": "plaintext"
    }
   },
   "outputs": [],
   "source": [
    "syntax\n",
    "def fun-name([parameter]):\n",
    "    statement 1\n",
    "    statement 2\n",
    "    ...\n",
    "    statement n\n",
    "    [return expression]\n",
    "\n",
    "    example\n",
    "    \n",
    "    def area(width, height):\n",
    "    a = width * height\n",
    "    return a"
   ]
  },
  {
   "cell_type": "markdown",
   "metadata": {},
   "source": [
    "- based on parameter and return values\n",
    "1. no parameter, no return values\n",
    "2. no parameter, return value\n",
    "3. parameter, no return value\n",
    "4. parameter,return value\n",
    "\n",
    "- based on parameter type\n",
    "1. required parameter\n",
    "2. keyword parameter\n",
    "3. default parameter\n",
    "4. variable length parameter (*args)\n",
    "5. variable keyword arguments (**kwargs)\n",
    "- other types of function\n",
    "- lambda function\n",
    "- generator function\n",
    "- recursive function\n"
   ]
  }
 ],
 "metadata": {
  "language_info": {
   "name": "python"
  },
  "orig_nbformat": 4
 },
 "nbformat": 4,
 "nbformat_minor": 2
}
